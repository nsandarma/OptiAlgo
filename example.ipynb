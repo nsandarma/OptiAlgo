{
 "cells": [
  {
   "cell_type": "code",
   "execution_count": 1,
   "id": "e89ac82f-afc4-459c-a67f-256a663cfb37",
   "metadata": {},
   "outputs": [
    {
     "name": "stderr",
     "output_type": "stream",
     "text": [
      "/tmp/ipykernel_20959/1983164612.py:1: DeprecationWarning: \n",
      "Pyarrow will become a required dependency of pandas in the next major release of pandas (pandas 3.0),\n",
      "(to allow more performant data types, such as the Arrow string type, and better interoperability with other libraries)\n",
      "but was not found to be installed on your system.\n",
      "If this would cause problems for you,\n",
      "please provide us feedback at https://github.com/pandas-dev/pandas/issues/54466\n",
      "        \n",
      "  import pandas as pd\n"
     ]
    }
   ],
   "source": [
    "import pandas as pd\n",
    "from src.classification import Classification\n",
    "from src.regression import Regression"
   ]
  },
  {
   "cell_type": "markdown",
   "id": "b6ebee9b-cb25-445b-9b3b-84623360aba1",
   "metadata": {},
   "source": [
    "# Klasifikasi"
   ]
  },
  {
   "cell_type": "code",
   "execution_count": 2,
   "id": "a21586cf-15ab-49b5-819e-431901ef33b3",
   "metadata": {},
   "outputs": [
    {
     "data": {
      "text/html": [
       "<div>\n",
       "<style scoped>\n",
       "    .dataframe tbody tr th:only-of-type {\n",
       "        vertical-align: middle;\n",
       "    }\n",
       "\n",
       "    .dataframe tbody tr th {\n",
       "        vertical-align: top;\n",
       "    }\n",
       "\n",
       "    .dataframe thead th {\n",
       "        text-align: right;\n",
       "    }\n",
       "</style>\n",
       "<table border=\"1\" class=\"dataframe\">\n",
       "  <thead>\n",
       "    <tr style=\"text-align: right;\">\n",
       "      <th></th>\n",
       "      <th>Age</th>\n",
       "      <th>Sex</th>\n",
       "      <th>BP</th>\n",
       "      <th>Cholesterol</th>\n",
       "      <th>Na_to_K</th>\n",
       "      <th>Drug</th>\n",
       "    </tr>\n",
       "  </thead>\n",
       "  <tbody>\n",
       "    <tr>\n",
       "      <th>0</th>\n",
       "      <td>23</td>\n",
       "      <td>F</td>\n",
       "      <td>HIGH</td>\n",
       "      <td>HIGH</td>\n",
       "      <td>25.355</td>\n",
       "      <td>DrugY</td>\n",
       "    </tr>\n",
       "    <tr>\n",
       "      <th>1</th>\n",
       "      <td>47</td>\n",
       "      <td>M</td>\n",
       "      <td>LOW</td>\n",
       "      <td>HIGH</td>\n",
       "      <td>13.093</td>\n",
       "      <td>drugC</td>\n",
       "    </tr>\n",
       "    <tr>\n",
       "      <th>2</th>\n",
       "      <td>47</td>\n",
       "      <td>M</td>\n",
       "      <td>LOW</td>\n",
       "      <td>HIGH</td>\n",
       "      <td>10.114</td>\n",
       "      <td>drugC</td>\n",
       "    </tr>\n",
       "    <tr>\n",
       "      <th>3</th>\n",
       "      <td>28</td>\n",
       "      <td>F</td>\n",
       "      <td>NORMAL</td>\n",
       "      <td>HIGH</td>\n",
       "      <td>7.798</td>\n",
       "      <td>drugX</td>\n",
       "    </tr>\n",
       "    <tr>\n",
       "      <th>4</th>\n",
       "      <td>61</td>\n",
       "      <td>F</td>\n",
       "      <td>LOW</td>\n",
       "      <td>HIGH</td>\n",
       "      <td>18.043</td>\n",
       "      <td>DrugY</td>\n",
       "    </tr>\n",
       "    <tr>\n",
       "      <th>...</th>\n",
       "      <td>...</td>\n",
       "      <td>...</td>\n",
       "      <td>...</td>\n",
       "      <td>...</td>\n",
       "      <td>...</td>\n",
       "      <td>...</td>\n",
       "    </tr>\n",
       "    <tr>\n",
       "      <th>195</th>\n",
       "      <td>56</td>\n",
       "      <td>F</td>\n",
       "      <td>LOW</td>\n",
       "      <td>HIGH</td>\n",
       "      <td>11.567</td>\n",
       "      <td>drugC</td>\n",
       "    </tr>\n",
       "    <tr>\n",
       "      <th>196</th>\n",
       "      <td>16</td>\n",
       "      <td>M</td>\n",
       "      <td>LOW</td>\n",
       "      <td>HIGH</td>\n",
       "      <td>12.006</td>\n",
       "      <td>drugC</td>\n",
       "    </tr>\n",
       "    <tr>\n",
       "      <th>197</th>\n",
       "      <td>52</td>\n",
       "      <td>M</td>\n",
       "      <td>NORMAL</td>\n",
       "      <td>HIGH</td>\n",
       "      <td>9.894</td>\n",
       "      <td>drugX</td>\n",
       "    </tr>\n",
       "    <tr>\n",
       "      <th>198</th>\n",
       "      <td>23</td>\n",
       "      <td>M</td>\n",
       "      <td>NORMAL</td>\n",
       "      <td>NORMAL</td>\n",
       "      <td>14.020</td>\n",
       "      <td>drugX</td>\n",
       "    </tr>\n",
       "    <tr>\n",
       "      <th>199</th>\n",
       "      <td>40</td>\n",
       "      <td>F</td>\n",
       "      <td>LOW</td>\n",
       "      <td>NORMAL</td>\n",
       "      <td>11.349</td>\n",
       "      <td>drugX</td>\n",
       "    </tr>\n",
       "  </tbody>\n",
       "</table>\n",
       "<p>200 rows × 6 columns</p>\n",
       "</div>"
      ],
      "text/plain": [
       "     Age Sex      BP Cholesterol  Na_to_K   Drug\n",
       "0     23   F    HIGH        HIGH   25.355  DrugY\n",
       "1     47   M     LOW        HIGH   13.093  drugC\n",
       "2     47   M     LOW        HIGH   10.114  drugC\n",
       "3     28   F  NORMAL        HIGH    7.798  drugX\n",
       "4     61   F     LOW        HIGH   18.043  DrugY\n",
       "..   ...  ..     ...         ...      ...    ...\n",
       "195   56   F     LOW        HIGH   11.567  drugC\n",
       "196   16   M     LOW        HIGH   12.006  drugC\n",
       "197   52   M  NORMAL        HIGH    9.894  drugX\n",
       "198   23   M  NORMAL      NORMAL   14.020  drugX\n",
       "199   40   F     LOW      NORMAL   11.349  drugX\n",
       "\n",
       "[200 rows x 6 columns]"
      ]
     },
     "execution_count": 2,
     "metadata": {},
     "output_type": "execute_result"
    }
   ],
   "source": [
    "df = pd.read_csv('dataset_ex/drug200.csv')\n",
    "df"
   ]
  },
  {
   "cell_type": "markdown",
   "id": "7df74ac3-3c7b-415d-8242-3e5a5688c0d2",
   "metadata": {},
   "source": [
    "## Inisiasi Fitur dan Target"
   ]
  },
  {
   "cell_type": "code",
   "execution_count": 3,
   "id": "bcbd65db-0fa9-4467-bb3e-5c296a9d9d5d",
   "metadata": {},
   "outputs": [],
   "source": [
    "features = ['Age','Sex','BP','Cholesterol',\"Na_to_K\"]\n",
    "target = 'Drug'"
   ]
  },
  {
   "cell_type": "markdown",
   "id": "a5a385a0-14be-4411-bc59-92107d7aca1a",
   "metadata": {},
   "source": [
    "## Inisiasi Object Model"
   ]
  },
  {
   "cell_type": "code",
   "execution_count": 4,
   "id": "75e5ab41-17f5-4375-ac58-51c1ed264b43",
   "metadata": {},
   "outputs": [],
   "source": [
    "clf = Classification()"
   ]
  },
  {
   "cell_type": "code",
   "execution_count": 5,
   "id": "eef552ac-820c-4c1e-957d-71f8c758a033",
   "metadata": {},
   "outputs": [
    {
     "data": {
      "text/plain": [
       "<src.classification.Classification at 0x7fa15afcc050>"
      ]
     },
     "execution_count": 5,
     "metadata": {},
     "output_type": "execute_result"
    }
   ],
   "source": [
    "clf.fit(data=df,target=target,features=features)"
   ]
  },
  {
   "cell_type": "markdown",
   "id": "0ff4aeec-8775-43d0-a6c7-c869e8742289",
   "metadata": {},
   "source": [
    "## Mencari Algoritma Terbaik"
   ]
  },
  {
   "cell_type": "code",
   "execution_count": 6,
   "id": "fffbf32b-e578-4a60-a458-3dc735270cd1",
   "metadata": {},
   "outputs": [
    {
     "data": {
      "text/html": [
       "<div>\n",
       "<style scoped>\n",
       "    .dataframe tbody tr th:only-of-type {\n",
       "        vertical-align: middle;\n",
       "    }\n",
       "\n",
       "    .dataframe tbody tr th {\n",
       "        vertical-align: top;\n",
       "    }\n",
       "\n",
       "    .dataframe thead th {\n",
       "        text-align: right;\n",
       "    }\n",
       "</style>\n",
       "<table border=\"1\" class=\"dataframe\">\n",
       "  <thead>\n",
       "    <tr style=\"text-align: right;\">\n",
       "      <th></th>\n",
       "      <th>DrugY</th>\n",
       "      <th>drugA</th>\n",
       "      <th>drugB</th>\n",
       "      <th>drugC</th>\n",
       "      <th>drugX</th>\n",
       "      <th>accuracy</th>\n",
       "      <th>macro avg</th>\n",
       "      <th>weighted avg</th>\n",
       "    </tr>\n",
       "  </thead>\n",
       "  <tbody>\n",
       "    <tr>\n",
       "      <th>Naive Bayes</th>\n",
       "      <td>{'precision': 0.40625, 'recall': 0.86666666666...</td>\n",
       "      <td>{'precision': 0.0, 'recall': 0.0, 'f1-score': ...</td>\n",
       "      <td>{'precision': 0.0, 'recall': 0.0, 'f1-score': ...</td>\n",
       "      <td>{'precision': 1.0, 'recall': 0.2, 'f1-score': ...</td>\n",
       "      <td>{'precision': 0.7142857142857143, 'recall': 0....</td>\n",
       "      <td>0.475</td>\n",
       "      <td>{'precision': 0.4241071428571429, 'recall': 0....</td>\n",
       "      <td>{'precision': 0.47377232142857145, 'recall': 0...</td>\n",
       "    </tr>\n",
       "    <tr>\n",
       "      <th>K-Nearest Neighbor</th>\n",
       "      <td>{'precision': 0.9166666666666666, 'recall': 0....</td>\n",
       "      <td>{'precision': 0.75, 'recall': 1.0, 'f1-score':...</td>\n",
       "      <td>{'precision': 1.0, 'recall': 1.0, 'f1-score': ...</td>\n",
       "      <td>{'precision': 1.0, 'recall': 0.8, 'f1-score': ...</td>\n",
       "      <td>{'precision': 0.8461538461538461, 'recall': 1....</td>\n",
       "      <td>0.875</td>\n",
       "      <td>{'precision': 0.9025641025641026, 'recall': 0....</td>\n",
       "      <td>{'precision': 0.8889423076923076, 'recall': 0....</td>\n",
       "    </tr>\n",
       "    <tr>\n",
       "      <th>SVM</th>\n",
       "      <td>{'precision': 0.5714285714285714, 'recall': 0....</td>\n",
       "      <td>{'precision': 0.75, 'recall': 0.5, 'f1-score':...</td>\n",
       "      <td>{'precision': 1.0, 'recall': 0.333333333333333...</td>\n",
       "      <td>{'precision': 1.0, 'recall': 0.2, 'f1-score': ...</td>\n",
       "      <td>{'precision': 0.8461538461538461, 'recall': 1....</td>\n",
       "      <td>0.700</td>\n",
       "      <td>{'precision': 0.8335164835164834, 'recall': 0....</td>\n",
       "      <td>{'precision': 0.7594780219780219, 'recall': 0....</td>\n",
       "    </tr>\n",
       "    <tr>\n",
       "      <th>Logistic Regression</th>\n",
       "      <td>{'precision': 0.8823529411764706, 'recall': 1....</td>\n",
       "      <td>{'precision': 1.0, 'recall': 1.0, 'f1-score': ...</td>\n",
       "      <td>{'precision': 1.0, 'recall': 0.666666666666666...</td>\n",
       "      <td>{'precision': 1.0, 'recall': 0.8, 'f1-score': ...</td>\n",
       "      <td>{'precision': 1.0, 'recall': 1.0, 'f1-score': ...</td>\n",
       "      <td>0.950</td>\n",
       "      <td>{'precision': 0.9764705882352942, 'recall': 0....</td>\n",
       "      <td>{'precision': 0.9558823529411764, 'recall': 0....</td>\n",
       "    </tr>\n",
       "    <tr>\n",
       "      <th>Random Forest</th>\n",
       "      <td>{'precision': 1.0, 'recall': 1.0, 'f1-score': ...</td>\n",
       "      <td>{'precision': 1.0, 'recall': 1.0, 'f1-score': ...</td>\n",
       "      <td>{'precision': 1.0, 'recall': 1.0, 'f1-score': ...</td>\n",
       "      <td>{'precision': 1.0, 'recall': 1.0, 'f1-score': ...</td>\n",
       "      <td>{'precision': 1.0, 'recall': 1.0, 'f1-score': ...</td>\n",
       "      <td>1.000</td>\n",
       "      <td>{'precision': 1.0, 'recall': 1.0, 'f1-score': ...</td>\n",
       "      <td>{'precision': 1.0, 'recall': 1.0, 'f1-score': ...</td>\n",
       "    </tr>\n",
       "    <tr>\n",
       "      <th>Decision Tree Classifier</th>\n",
       "      <td>{'precision': 1.0, 'recall': 1.0, 'f1-score': ...</td>\n",
       "      <td>{'precision': 1.0, 'recall': 1.0, 'f1-score': ...</td>\n",
       "      <td>{'precision': 1.0, 'recall': 1.0, 'f1-score': ...</td>\n",
       "      <td>{'precision': 1.0, 'recall': 1.0, 'f1-score': ...</td>\n",
       "      <td>{'precision': 1.0, 'recall': 1.0, 'f1-score': ...</td>\n",
       "      <td>1.000</td>\n",
       "      <td>{'precision': 1.0, 'recall': 1.0, 'f1-score': ...</td>\n",
       "      <td>{'precision': 1.0, 'recall': 1.0, 'f1-score': ...</td>\n",
       "    </tr>\n",
       "  </tbody>\n",
       "</table>\n",
       "</div>"
      ],
      "text/plain": [
       "                                                                      DrugY  \\\n",
       "Naive Bayes               {'precision': 0.40625, 'recall': 0.86666666666...   \n",
       "K-Nearest Neighbor        {'precision': 0.9166666666666666, 'recall': 0....   \n",
       "SVM                       {'precision': 0.5714285714285714, 'recall': 0....   \n",
       "Logistic Regression       {'precision': 0.8823529411764706, 'recall': 1....   \n",
       "Random Forest             {'precision': 1.0, 'recall': 1.0, 'f1-score': ...   \n",
       "Decision Tree Classifier  {'precision': 1.0, 'recall': 1.0, 'f1-score': ...   \n",
       "\n",
       "                                                                      drugA  \\\n",
       "Naive Bayes               {'precision': 0.0, 'recall': 0.0, 'f1-score': ...   \n",
       "K-Nearest Neighbor        {'precision': 0.75, 'recall': 1.0, 'f1-score':...   \n",
       "SVM                       {'precision': 0.75, 'recall': 0.5, 'f1-score':...   \n",
       "Logistic Regression       {'precision': 1.0, 'recall': 1.0, 'f1-score': ...   \n",
       "Random Forest             {'precision': 1.0, 'recall': 1.0, 'f1-score': ...   \n",
       "Decision Tree Classifier  {'precision': 1.0, 'recall': 1.0, 'f1-score': ...   \n",
       "\n",
       "                                                                      drugB  \\\n",
       "Naive Bayes               {'precision': 0.0, 'recall': 0.0, 'f1-score': ...   \n",
       "K-Nearest Neighbor        {'precision': 1.0, 'recall': 1.0, 'f1-score': ...   \n",
       "SVM                       {'precision': 1.0, 'recall': 0.333333333333333...   \n",
       "Logistic Regression       {'precision': 1.0, 'recall': 0.666666666666666...   \n",
       "Random Forest             {'precision': 1.0, 'recall': 1.0, 'f1-score': ...   \n",
       "Decision Tree Classifier  {'precision': 1.0, 'recall': 1.0, 'f1-score': ...   \n",
       "\n",
       "                                                                      drugC  \\\n",
       "Naive Bayes               {'precision': 1.0, 'recall': 0.2, 'f1-score': ...   \n",
       "K-Nearest Neighbor        {'precision': 1.0, 'recall': 0.8, 'f1-score': ...   \n",
       "SVM                       {'precision': 1.0, 'recall': 0.2, 'f1-score': ...   \n",
       "Logistic Regression       {'precision': 1.0, 'recall': 0.8, 'f1-score': ...   \n",
       "Random Forest             {'precision': 1.0, 'recall': 1.0, 'f1-score': ...   \n",
       "Decision Tree Classifier  {'precision': 1.0, 'recall': 1.0, 'f1-score': ...   \n",
       "\n",
       "                                                                      drugX  \\\n",
       "Naive Bayes               {'precision': 0.7142857142857143, 'recall': 0....   \n",
       "K-Nearest Neighbor        {'precision': 0.8461538461538461, 'recall': 1....   \n",
       "SVM                       {'precision': 0.8461538461538461, 'recall': 1....   \n",
       "Logistic Regression       {'precision': 1.0, 'recall': 1.0, 'f1-score': ...   \n",
       "Random Forest             {'precision': 1.0, 'recall': 1.0, 'f1-score': ...   \n",
       "Decision Tree Classifier  {'precision': 1.0, 'recall': 1.0, 'f1-score': ...   \n",
       "\n",
       "                          accuracy  \\\n",
       "Naive Bayes                  0.475   \n",
       "K-Nearest Neighbor           0.875   \n",
       "SVM                          0.700   \n",
       "Logistic Regression          0.950   \n",
       "Random Forest                1.000   \n",
       "Decision Tree Classifier     1.000   \n",
       "\n",
       "                                                                  macro avg  \\\n",
       "Naive Bayes               {'precision': 0.4241071428571429, 'recall': 0....   \n",
       "K-Nearest Neighbor        {'precision': 0.9025641025641026, 'recall': 0....   \n",
       "SVM                       {'precision': 0.8335164835164834, 'recall': 0....   \n",
       "Logistic Regression       {'precision': 0.9764705882352942, 'recall': 0....   \n",
       "Random Forest             {'precision': 1.0, 'recall': 1.0, 'f1-score': ...   \n",
       "Decision Tree Classifier  {'precision': 1.0, 'recall': 1.0, 'f1-score': ...   \n",
       "\n",
       "                                                               weighted avg  \n",
       "Naive Bayes               {'precision': 0.47377232142857145, 'recall': 0...  \n",
       "K-Nearest Neighbor        {'precision': 0.8889423076923076, 'recall': 0....  \n",
       "SVM                       {'precision': 0.7594780219780219, 'recall': 0....  \n",
       "Logistic Regression       {'precision': 0.9558823529411764, 'recall': 0....  \n",
       "Random Forest             {'precision': 1.0, 'recall': 1.0, 'f1-score': ...  \n",
       "Decision Tree Classifier  {'precision': 1.0, 'recall': 1.0, 'f1-score': ...  "
      ]
     },
     "execution_count": 6,
     "metadata": {},
     "output_type": "execute_result"
    }
   ],
   "source": [
    "clf.compare_model(output='dataframe')"
   ]
  },
  {
   "cell_type": "markdown",
   "id": "ea95d5d7-02af-448e-87d3-3f06d917cccd",
   "metadata": {},
   "source": [
    "### Hanya Menampilkan Akurasi"
   ]
  },
  {
   "cell_type": "code",
   "execution_count": 7,
   "id": "46591d62-c26a-4349-8685-9e78ea596e76",
   "metadata": {},
   "outputs": [
    {
     "data": {
      "text/plain": [
       "{'Naive Bayes': 0.475,\n",
       " 'K-Nearest Neighbor': 0.875,\n",
       " 'SVM': 0.7,\n",
       " 'Logistic Regression': 0.95,\n",
       " 'Random Forest': 1.0,\n",
       " 'Decision Tree Classifier': 1.0}"
      ]
     },
     "execution_count": 7,
     "metadata": {},
     "output_type": "execute_result"
    }
   ],
   "source": [
    "clf.compare_model(output='only_accuracy')"
   ]
  },
  {
   "cell_type": "markdown",
   "id": "985f3e25-0ad6-4357-a14b-12ffd20f0cfb",
   "metadata": {},
   "source": [
    "### Mendapatkan Algoritma Terbaik"
   ]
  },
  {
   "cell_type": "code",
   "execution_count": 8,
   "id": "635a249c-a3ca-45e5-9389-e81e6871a7b1",
   "metadata": {},
   "outputs": [
    {
     "data": {
      "text/plain": [
       "('Random Forest', 1.0)"
      ]
     },
     "execution_count": 8,
     "metadata": {},
     "output_type": "execute_result"
    }
   ],
   "source": [
    "clf.find_best_model()"
   ]
  },
  {
   "cell_type": "markdown",
   "id": "24908e73-4e9c-4620-a5ae-07772e5eea9b",
   "metadata": {},
   "source": [
    "## Set Algoritma"
   ]
  },
  {
   "cell_type": "markdown",
   "id": "a5f3e4de-fab7-4b8d-b641-a634f3f7582b",
   "metadata": {},
   "source": [
    "### Menampilkan Algoritma yang tersedia"
   ]
  },
  {
   "cell_type": "code",
   "execution_count": 9,
   "id": "7cfaef3f-88f5-4cba-bcc4-80c5f097df92",
   "metadata": {},
   "outputs": [
    {
     "data": {
      "text/plain": [
       "['Naive Bayes',\n",
       " 'K-Nearest Neighbor',\n",
       " 'SVM',\n",
       " 'Logistic Regression',\n",
       " 'Random Forest',\n",
       " 'Decision Tree Classifier']"
      ]
     },
     "execution_count": 9,
     "metadata": {},
     "output_type": "execute_result"
    }
   ],
   "source": [
    "clf.get_list_models"
   ]
  },
  {
   "cell_type": "code",
   "execution_count": 10,
   "id": "44d68711-d300-478a-90d5-c3b7ffb28638",
   "metadata": {},
   "outputs": [
    {
     "data": {
      "text/plain": [
       "<src.classification.Classification at 0x7fa15afcc050>"
      ]
     },
     "execution_count": 10,
     "metadata": {},
     "output_type": "execute_result"
    }
   ],
   "source": [
    "clf.set_model(\"K-Nearest Neighbor\")"
   ]
  },
  {
   "cell_type": "markdown",
   "id": "8dd248d9-d79d-4ab3-ba34-955b70f7352a",
   "metadata": {},
   "source": [
    "## Prediksi"
   ]
  },
  {
   "cell_type": "code",
   "execution_count": 11,
   "id": "64a35adb-8c65-459d-98d6-7a44caea9b12",
   "metadata": {},
   "outputs": [
    {
     "data": {
      "text/plain": [
       "array(['drugX', 'drugA', 'drugX', 'drugC', 'drugX', 'drugA', 'drugA',\n",
       "       'drugX', 'drugA', 'drugX', 'drugA', 'drugX', 'drugC', 'drugA',\n",
       "       'drugA', 'drugX', 'drugA', 'drugX', 'drugC', 'drugX', 'drugA',\n",
       "       'drugX', 'drugX', 'drugX', 'drugX', 'drugX', 'drugC', 'drugX',\n",
       "       'drugA', 'drugX', 'drugX', 'drugC', 'drugC', 'drugX', 'drugA',\n",
       "       'drugA', 'drugX', 'drugA', 'drugA', 'drugA'], dtype=object)"
      ]
     },
     "execution_count": 11,
     "metadata": {},
     "output_type": "execute_result"
    }
   ],
   "source": [
    "X_test = clf.X_test\n",
    "clf.predict(X_test)"
   ]
  },
  {
   "cell_type": "markdown",
   "id": "c1cbe4a4-bed7-47aa-9cdd-f282962e87e4",
   "metadata": {},
   "source": [
    "## HyperParameter"
   ]
  },
  {
   "cell_type": "code",
   "execution_count": 12,
   "id": "16accda0-8589-48fc-8c43-63b50d768d69",
   "metadata": {},
   "outputs": [
    {
     "data": {
      "text/plain": [
       "{'algorithm': 'auto',\n",
       " 'leaf_size': 30,\n",
       " 'metric': 'minkowski',\n",
       " 'metric_params': None,\n",
       " 'n_jobs': None,\n",
       " 'n_neighbors': 5,\n",
       " 'p': 2,\n",
       " 'weights': 'uniform'}"
      ]
     },
     "execution_count": 12,
     "metadata": {},
     "output_type": "execute_result"
    }
   ],
   "source": [
    "clf.get_params_from_model"
   ]
  },
  {
   "cell_type": "code",
   "execution_count": 13,
   "id": "9d6c742c-9908-481e-99ac-7574e242d389",
   "metadata": {},
   "outputs": [
    {
     "data": {
      "text/plain": [
       "{'algorithm': 'auto',\n",
       " 'leaf_size': 30,\n",
       " 'metric': 'minkowski',\n",
       " 'metric_params': None,\n",
       " 'n_jobs': None,\n",
       " 'n_neighbors': 3,\n",
       " 'p': 2,\n",
       " 'weights': 'uniform'}"
      ]
     },
     "execution_count": 13,
     "metadata": {},
     "output_type": "execute_result"
    }
   ],
   "source": [
    "params = {'n_neighbors':3}\n",
    "clf.hyperparameters(params)\n",
    "clf.get_params_from_model"
   ]
  }
 ],
 "metadata": {
  "kernelspec": {
   "display_name": "Python 3 (ipykernel)",
   "language": "python",
   "name": "python3"
  },
  "language_info": {
   "codemirror_mode": {
    "name": "ipython",
    "version": 3
   },
   "file_extension": ".py",
   "mimetype": "text/x-python",
   "name": "python",
   "nbconvert_exporter": "python",
   "pygments_lexer": "ipython3",
   "version": "3.11.5"
  }
 },
 "nbformat": 4,
 "nbformat_minor": 5
}
