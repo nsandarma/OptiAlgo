{
 "cells": [
  {
   "cell_type": "code",
   "execution_count": 1,
   "metadata": {},
   "outputs": [],
   "source": [
    "import pandas as pd\n",
    "from optialgo import Dataset, Regression"
   ]
  },
  {
   "cell_type": "code",
   "execution_count": 2,
   "metadata": {},
   "outputs": [
    {
     "data": {
      "text/html": [
       "<div>\n",
       "<style scoped>\n",
       "    .dataframe tbody tr th:only-of-type {\n",
       "        vertical-align: middle;\n",
       "    }\n",
       "\n",
       "    .dataframe tbody tr th {\n",
       "        vertical-align: top;\n",
       "    }\n",
       "\n",
       "    .dataframe thead th {\n",
       "        text-align: right;\n",
       "    }\n",
       "</style>\n",
       "<table border=\"1\" class=\"dataframe\">\n",
       "  <thead>\n",
       "    <tr style=\"text-align: right;\">\n",
       "      <th></th>\n",
       "      <th>price</th>\n",
       "      <th>area</th>\n",
       "      <th>bedrooms</th>\n",
       "      <th>bathrooms</th>\n",
       "      <th>stories</th>\n",
       "      <th>mainroad</th>\n",
       "      <th>guestroom</th>\n",
       "      <th>basement</th>\n",
       "      <th>hotwaterheating</th>\n",
       "      <th>airconditioning</th>\n",
       "      <th>parking</th>\n",
       "      <th>prefarea</th>\n",
       "      <th>furnishingstatus</th>\n",
       "    </tr>\n",
       "  </thead>\n",
       "  <tbody>\n",
       "    <tr>\n",
       "      <th>0</th>\n",
       "      <td>13300000</td>\n",
       "      <td>7420</td>\n",
       "      <td>4</td>\n",
       "      <td>2</td>\n",
       "      <td>3</td>\n",
       "      <td>yes</td>\n",
       "      <td>no</td>\n",
       "      <td>no</td>\n",
       "      <td>no</td>\n",
       "      <td>yes</td>\n",
       "      <td>2</td>\n",
       "      <td>yes</td>\n",
       "      <td>furnished</td>\n",
       "    </tr>\n",
       "    <tr>\n",
       "      <th>1</th>\n",
       "      <td>12250000</td>\n",
       "      <td>8960</td>\n",
       "      <td>4</td>\n",
       "      <td>4</td>\n",
       "      <td>4</td>\n",
       "      <td>yes</td>\n",
       "      <td>no</td>\n",
       "      <td>no</td>\n",
       "      <td>no</td>\n",
       "      <td>yes</td>\n",
       "      <td>3</td>\n",
       "      <td>no</td>\n",
       "      <td>furnished</td>\n",
       "    </tr>\n",
       "    <tr>\n",
       "      <th>2</th>\n",
       "      <td>12250000</td>\n",
       "      <td>9960</td>\n",
       "      <td>3</td>\n",
       "      <td>2</td>\n",
       "      <td>2</td>\n",
       "      <td>yes</td>\n",
       "      <td>no</td>\n",
       "      <td>yes</td>\n",
       "      <td>no</td>\n",
       "      <td>no</td>\n",
       "      <td>2</td>\n",
       "      <td>yes</td>\n",
       "      <td>semi-furnished</td>\n",
       "    </tr>\n",
       "    <tr>\n",
       "      <th>3</th>\n",
       "      <td>12215000</td>\n",
       "      <td>7500</td>\n",
       "      <td>4</td>\n",
       "      <td>2</td>\n",
       "      <td>2</td>\n",
       "      <td>yes</td>\n",
       "      <td>no</td>\n",
       "      <td>yes</td>\n",
       "      <td>no</td>\n",
       "      <td>yes</td>\n",
       "      <td>3</td>\n",
       "      <td>yes</td>\n",
       "      <td>furnished</td>\n",
       "    </tr>\n",
       "    <tr>\n",
       "      <th>4</th>\n",
       "      <td>11410000</td>\n",
       "      <td>7420</td>\n",
       "      <td>4</td>\n",
       "      <td>1</td>\n",
       "      <td>2</td>\n",
       "      <td>yes</td>\n",
       "      <td>yes</td>\n",
       "      <td>yes</td>\n",
       "      <td>no</td>\n",
       "      <td>yes</td>\n",
       "      <td>2</td>\n",
       "      <td>no</td>\n",
       "      <td>furnished</td>\n",
       "    </tr>\n",
       "  </tbody>\n",
       "</table>\n",
       "</div>"
      ],
      "text/plain": [
       "      price  area  bedrooms  bathrooms  stories mainroad guestroom basement  \\\n",
       "0  13300000  7420         4          2        3      yes        no       no   \n",
       "1  12250000  8960         4          4        4      yes        no       no   \n",
       "2  12250000  9960         3          2        2      yes        no      yes   \n",
       "3  12215000  7500         4          2        2      yes        no      yes   \n",
       "4  11410000  7420         4          1        2      yes       yes      yes   \n",
       "\n",
       "  hotwaterheating airconditioning  parking prefarea furnishingstatus  \n",
       "0              no             yes        2      yes        furnished  \n",
       "1              no             yes        3       no        furnished  \n",
       "2              no              no        2      yes   semi-furnished  \n",
       "3              no             yes        3      yes        furnished  \n",
       "4              no             yes        2       no        furnished  "
      ]
     },
     "execution_count": 2,
     "metadata": {},
     "output_type": "execute_result"
    }
   ],
   "source": [
    "df = pd.read_csv(\"dataset_ex/Housing.csv\")\n",
    "df.head()"
   ]
  },
  {
   "cell_type": "code",
   "execution_count": 3,
   "metadata": {},
   "outputs": [],
   "source": [
    "features = df.columns.tolist()[1:]\n",
    "target = \"price\""
   ]
  },
  {
   "cell_type": "code",
   "execution_count": 4,
   "metadata": {},
   "outputs": [],
   "source": [
    "dataset = Dataset(dataframe=df).fit(features=features, target=target)"
   ]
  },
  {
   "cell_type": "code",
   "execution_count": 5,
   "metadata": {},
   "outputs": [
    {
     "data": {
      "application/vnd.jupyter.widget-view+json": {
       "model_id": "6f1a7cd214254b1cae6a815725d20119",
       "version_major": 2,
       "version_minor": 0
      },
      "text/plain": [
       "Output()"
      ]
     },
     "metadata": {},
     "output_type": "display_data"
    },
    {
     "data": {
      "text/html": [
       "<pre style=\"white-space:pre;overflow-x:auto;line-height:normal;font-family:Menlo,'DejaVu Sans Mono',consolas,'Courier New',monospace\"><span style=\"font-style: italic\">                                                 Train-Validation                                                  </span>\n",
       " ───────────────────────────────────────────────────────────────────────────────────────────────────────────────── \n",
       " <span style=\"font-weight: bold\">              </span> <span style=\"font-weight: bold\"> mae_train    </span> <span style=\"font-weight: bold\"> mae_val      </span> <span style=\"font-weight: bold\"> mse_train    </span> <span style=\"font-weight: bold\"> mse_val      </span> <span style=\"font-weight: bold\"> mape_train </span> <span style=\"font-weight: bold\"> mape_val </span> <span style=\"font-weight: bold\"> mape_differ… </span> \n",
       " ───────────────────────────────────────────────────────────────────────────────────────────────────────────────── \n",
       "  <span style=\"color: #800080; text-decoration-color: #800080; font-weight: bold\">Linear      </span>   <span style=\"color: #800080; text-decoration-color: #800080; font-weight: bold\">718319.6898 </span>   <span style=\"color: #800080; text-decoration-color: #800080; font-weight: bold\">976926.5368 </span>   <span style=\"color: #800080; text-decoration-color: #800080; font-weight: bold\">96914000309…</span>   <span style=\"color: #800080; text-decoration-color: #800080; font-weight: bold\">17663660341…</span>   <span style=\"color: #800080; text-decoration-color: #800080; font-weight: bold\">0.1592    </span>   <span style=\"color: #800080; text-decoration-color: #800080; font-weight: bold\">0.2122  </span>   <span style=\"color: #800080; text-decoration-color: #800080; font-weight: bold\">5.3012      </span>  \n",
       "  <span style=\"color: #800080; text-decoration-color: #800080; font-weight: bold\">Regression  </span>                                                                                                     \n",
       "  SVR            1309742.7977   1763901.2770   32560456930…   55679827851…   0.2800       0.3671     8.7167        \n",
       "  K-Neighbors    818710.5596    1249706.5321   12866149133…   30000049439…   0.1776       0.2664     8.8765        \n",
       "  Regressor                                                                                                        \n",
       "  Random         277406.4406    1009507.7101   15549417984…   19531791704…   0.0624       0.2169     15.4477       \n",
       "  Forest                                                                                                           \n",
       "  Regressor                                                                                                        \n",
       "  Decision       8107.7982      1233477.0642   4500863532.…   28272060458…   0.0031       0.2603     25.7205       \n",
       "  Tree                                                                                                             \n",
       "  Regressor                                                                                                        \n",
       "  XGBoost        44839.2787     1066844.6651   7992442695.…   20459319996…   0.0125       0.2295     21.6988       \n",
       "  Regressor                                                                                                        \n",
       "  GradientBoo…   476055.9857    963929.8523    41192909783…   16951078459…   0.1096       0.2072     9.7571        \n",
       "  Regressor                                                                                                        \n",
       " ───────────────────────────────────────────────────────────────────────────────────────────────────────────────── \n",
       "</pre>\n"
      ],
      "text/plain": [
       "\u001b[3m                                                 Train-Validation                                                  \u001b[0m\n",
       " ───────────────────────────────────────────────────────────────────────────────────────────────────────────────── \n",
       " \u001b[1m \u001b[0m\u001b[1m            \u001b[0m\u001b[1m \u001b[0m \u001b[1m \u001b[0m\u001b[1mmae_train   \u001b[0m\u001b[1m \u001b[0m \u001b[1m \u001b[0m\u001b[1mmae_val     \u001b[0m\u001b[1m \u001b[0m \u001b[1m \u001b[0m\u001b[1mmse_train   \u001b[0m\u001b[1m \u001b[0m \u001b[1m \u001b[0m\u001b[1mmse_val     \u001b[0m\u001b[1m \u001b[0m \u001b[1m \u001b[0m\u001b[1mmape_train\u001b[0m\u001b[1m \u001b[0m \u001b[1m \u001b[0m\u001b[1mmape_val\u001b[0m\u001b[1m \u001b[0m \u001b[1m \u001b[0m\u001b[1mmape_differ…\u001b[0m\u001b[1m \u001b[0m \n",
       " ───────────────────────────────────────────────────────────────────────────────────────────────────────────────── \n",
       "  \u001b[1;35mLinear      \u001b[0m   \u001b[1;35m718319.6898 \u001b[0m   \u001b[1;35m976926.5368 \u001b[0m   \u001b[1;35m96914000309…\u001b[0m   \u001b[1;35m17663660341…\u001b[0m   \u001b[1;35m0.1592    \u001b[0m   \u001b[1;35m0.2122  \u001b[0m   \u001b[1;35m5.3012      \u001b[0m  \n",
       "  \u001b[1;35mRegression  \u001b[0m                                                                                                     \n",
       "  SVR            1309742.7977   1763901.2770   32560456930…   55679827851…   0.2800       0.3671     8.7167        \n",
       "  K-Neighbors    818710.5596    1249706.5321   12866149133…   30000049439…   0.1776       0.2664     8.8765        \n",
       "  Regressor                                                                                                        \n",
       "  Random         277406.4406    1009507.7101   15549417984…   19531791704…   0.0624       0.2169     15.4477       \n",
       "  Forest                                                                                                           \n",
       "  Regressor                                                                                                        \n",
       "  Decision       8107.7982      1233477.0642   4500863532.…   28272060458…   0.0031       0.2603     25.7205       \n",
       "  Tree                                                                                                             \n",
       "  Regressor                                                                                                        \n",
       "  XGBoost        44839.2787     1066844.6651   7992442695.…   20459319996…   0.0125       0.2295     21.6988       \n",
       "  Regressor                                                                                                        \n",
       "  GradientBoo…   476055.9857    963929.8523    41192909783…   16951078459…   0.1096       0.2072     9.7571        \n",
       "  Regressor                                                                                                        \n",
       " ───────────────────────────────────────────────────────────────────────────────────────────────────────────────── \n"
      ]
     },
     "metadata": {},
     "output_type": "display_data"
    },
    {
     "data": {
      "text/html": [
       "<pre style=\"white-space:pre;overflow-x:auto;line-height:normal;font-family:Menlo,'DejaVu Sans Mono',consolas,'Courier New',monospace\"></pre>\n"
      ],
      "text/plain": []
     },
     "metadata": {},
     "output_type": "display_data"
    },
    {
     "data": {
      "text/html": [
       "<pre style=\"white-space:pre;overflow-x:auto;line-height:normal;font-family:Menlo,'DejaVu Sans Mono',consolas,'Courier New',monospace\">\n",
       "</pre>\n"
      ],
      "text/plain": [
       "\n"
      ]
     },
     "metadata": {},
     "output_type": "display_data"
    }
   ],
   "source": [
    "reg = Regression(dataset=dataset, algorithm=\"Linear Regression\")\n",
    "reg.compare_model(output=\"table\", train_val=True)"
   ]
  }
 ],
 "metadata": {
  "kernelspec": {
   "display_name": "base",
   "language": "python",
   "name": "python3"
  },
  "language_info": {
   "codemirror_mode": {
    "name": "ipython",
    "version": 3
   },
   "file_extension": ".py",
   "mimetype": "text/x-python",
   "name": "python",
   "nbconvert_exporter": "python",
   "pygments_lexer": "ipython3",
   "version": "3.12.2"
  }
 },
 "nbformat": 4,
 "nbformat_minor": 2
}
