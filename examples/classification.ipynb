{
 "cells": [
  {
   "cell_type": "markdown",
   "id": "341f8244-a00e-42e5-b2f7-9482ceb93cff",
   "metadata": {},
   "source": [
    "# Import Optialgo"
   ]
  },
  {
   "cell_type": "code",
   "execution_count": 1,
   "id": "522be88d-f431-4430-9462-62f25e602537",
   "metadata": {},
   "outputs": [],
   "source": [
    "import pandas as pd\n",
    "from optialgo import Dataset, Classification"
   ]
  },
  {
   "cell_type": "markdown",
   "id": "f32ff592-b435-45cd-9db8-9e465cb6a34b",
   "metadata": {},
   "source": [
    "# Read CSV"
   ]
  },
  {
   "cell_type": "code",
   "execution_count": 2,
   "id": "85e6dc21-940a-472a-b6e2-9091440b9b76",
   "metadata": {},
   "outputs": [
    {
     "data": {
      "text/html": [
       "<div>\n",
       "<style scoped>\n",
       "    .dataframe tbody tr th:only-of-type {\n",
       "        vertical-align: middle;\n",
       "    }\n",
       "\n",
       "    .dataframe tbody tr th {\n",
       "        vertical-align: top;\n",
       "    }\n",
       "\n",
       "    .dataframe thead th {\n",
       "        text-align: right;\n",
       "    }\n",
       "</style>\n",
       "<table border=\"1\" class=\"dataframe\">\n",
       "  <thead>\n",
       "    <tr style=\"text-align: right;\">\n",
       "      <th></th>\n",
       "      <th>Age</th>\n",
       "      <th>Sex</th>\n",
       "      <th>BP</th>\n",
       "      <th>Cholesterol</th>\n",
       "      <th>Na_to_K</th>\n",
       "      <th>Drug</th>\n",
       "    </tr>\n",
       "  </thead>\n",
       "  <tbody>\n",
       "    <tr>\n",
       "      <th>0</th>\n",
       "      <td>23</td>\n",
       "      <td>F</td>\n",
       "      <td>HIGH</td>\n",
       "      <td>HIGH</td>\n",
       "      <td>25.355</td>\n",
       "      <td>DrugY</td>\n",
       "    </tr>\n",
       "    <tr>\n",
       "      <th>1</th>\n",
       "      <td>47</td>\n",
       "      <td>M</td>\n",
       "      <td>LOW</td>\n",
       "      <td>HIGH</td>\n",
       "      <td>13.093</td>\n",
       "      <td>drugC</td>\n",
       "    </tr>\n",
       "    <tr>\n",
       "      <th>2</th>\n",
       "      <td>47</td>\n",
       "      <td>M</td>\n",
       "      <td>LOW</td>\n",
       "      <td>HIGH</td>\n",
       "      <td>10.114</td>\n",
       "      <td>drugC</td>\n",
       "    </tr>\n",
       "    <tr>\n",
       "      <th>3</th>\n",
       "      <td>28</td>\n",
       "      <td>F</td>\n",
       "      <td>NORMAL</td>\n",
       "      <td>HIGH</td>\n",
       "      <td>7.798</td>\n",
       "      <td>drugX</td>\n",
       "    </tr>\n",
       "    <tr>\n",
       "      <th>4</th>\n",
       "      <td>61</td>\n",
       "      <td>F</td>\n",
       "      <td>LOW</td>\n",
       "      <td>HIGH</td>\n",
       "      <td>18.043</td>\n",
       "      <td>DrugY</td>\n",
       "    </tr>\n",
       "  </tbody>\n",
       "</table>\n",
       "</div>"
      ],
      "text/plain": [
       "   Age Sex      BP Cholesterol  Na_to_K   Drug\n",
       "0   23   F    HIGH        HIGH   25.355  DrugY\n",
       "1   47   M     LOW        HIGH   13.093  drugC\n",
       "2   47   M     LOW        HIGH   10.114  drugC\n",
       "3   28   F  NORMAL        HIGH    7.798  drugX\n",
       "4   61   F     LOW        HIGH   18.043  DrugY"
      ]
     },
     "execution_count": 2,
     "metadata": {},
     "output_type": "execute_result"
    }
   ],
   "source": [
    "df = pd.read_csv(\"dataset_ex/drug200.csv\")\n",
    "df.head()"
   ]
  },
  {
   "cell_type": "markdown",
   "id": "3dc88018-d719-4283-9a7d-e51c86837d53",
   "metadata": {},
   "source": [
    "# Inisiasi Fitur dan Target"
   ]
  },
  {
   "cell_type": "code",
   "execution_count": 3,
   "id": "b0fd5b90-667a-4d5c-81fa-673876f548c8",
   "metadata": {},
   "outputs": [],
   "source": [
    "features = df.columns.tolist()[:-1]\n",
    "target = \"Drug\""
   ]
  },
  {
   "cell_type": "markdown",
   "id": "02f6b5de-ded1-4a44-8847-a11fe9475e06",
   "metadata": {},
   "source": [
    "# Dataset"
   ]
  },
  {
   "cell_type": "code",
   "execution_count": 4,
   "id": "a72f819c-9f29-4c9b-8edd-82e11876b993",
   "metadata": {},
   "outputs": [],
   "source": [
    "dataset = Dataset(dataframe=df)\n",
    "dataset.fit(features=features,target=target)"
   ]
  },
  {
   "cell_type": "markdown",
   "id": "d724f14c-ab5f-4ca3-8817-a56ecd4169f9",
   "metadata": {},
   "source": [
    "# Classification"
   ]
  },
  {
   "cell_type": "markdown",
   "id": "c77893a2-8346-483f-9113-65c1f0eb4d6d",
   "metadata": {},
   "source": [
    "## Comparing Model"
   ]
  },
  {
   "cell_type": "markdown",
   "id": "7a854738-30ef-4522-81e0-8f04c25ba7c3",
   "metadata": {},
   "source": [
    "### with train_val"
   ]
  },
  {
   "cell_type": "code",
   "execution_count": 5,
   "id": "5b94a230-2b09-47a3-81d3-0b7925dd660f",
   "metadata": {},
   "outputs": [
    {
     "data": {
      "application/vnd.jupyter.widget-view+json": {
       "model_id": "47c31050b38242ac9a0c15ac609b9e76",
       "version_major": 2,
       "version_minor": 0
      },
      "text/plain": [
       "Output()"
      ]
     },
     "metadata": {},
     "output_type": "display_data"
    },
    {
     "data": {
      "text/html": [
       "<pre style=\"white-space:pre;overflow-x:auto;line-height:normal;font-family:Menlo,'DejaVu Sans Mono',consolas,'Courier New',monospace\"></pre>\n"
      ],
      "text/plain": []
     },
     "metadata": {},
     "output_type": "display_data"
    },
    {
     "data": {
      "text/html": [
       "<pre style=\"white-space:pre;overflow-x:auto;line-height:normal;font-family:Menlo,'DejaVu Sans Mono',consolas,'Courier New',monospace\">\n",
       "</pre>\n"
      ],
      "text/plain": [
       "\n"
      ]
     },
     "metadata": {},
     "output_type": "display_data"
    },
    {
     "data": {
      "text/html": [
       "<pre style=\"white-space:pre;overflow-x:auto;line-height:normal;font-family:Menlo,'DejaVu Sans Mono',consolas,'Courier New',monospace\"><span style=\"font-style: italic\">                                                 Train-Validation                                                  </span>\n",
       " ───────────────────────────────────────────────────────────────────────────────────────────────────────────────── \n",
       " <span style=\"font-weight: bold\">            </span> <span style=\"font-weight: bold\"> accuracy_t… </span> <span style=\"font-weight: bold\"> accuracy_… </span> <span style=\"font-weight: bold\"> precision_… </span> <span style=\"font-weight: bold\"> precision… </span> <span style=\"font-weight: bold\"> recall_tra… </span> <span style=\"font-weight: bold\"> recall_val </span> <span style=\"font-weight: bold\"> f1_train </span> <span style=\"font-weight: bold\"> f1_val </span> \n",
       " ───────────────────────────────────────────────────────────────────────────────────────────────────────────────── \n",
       "  Naive        0.6438        0.6250       0.5229        0.5272       0.6438        0.6250       0.5766     0.5572  \n",
       "  Bayes                                                                                                            \n",
       "  K-Nearest    0.7875        0.7250       0.7950        0.6883       0.7875        0.7250       0.7845     0.7024  \n",
       "  Neighbor                                                                                                         \n",
       "  SVM          0.7000        0.7000       0.5473        0.5425       0.7000        0.7000       0.6058     0.6037  \n",
       "  Logistic     0.9187        0.9000       0.8564        0.8379       0.9187        0.9000       0.8835     0.8670  \n",
       "  Regression                                                                                                       \n",
       "  Random       1.0000        0.9750       1.0000        0.9763       1.0000        0.9750       1.0000     0.9747  \n",
       "  Forest                                                                                                           \n",
       "  Decision     1.0000        0.9750       1.0000        0.9763       1.0000        0.9750       1.0000     0.9747  \n",
       "  Tree                                                                                                             \n",
       "  XGBoost      1.0000        0.9750       1.0000        0.9812       1.0000        0.9750       1.0000     0.9762  \n",
       "  Gradient     1.0000        0.9500       1.0000        0.9576       1.0000        0.9500       1.0000     0.9501  \n",
       "  Boosting                                                                                                         \n",
       " ───────────────────────────────────────────────────────────────────────────────────────────────────────────────── \n",
       "</pre>\n"
      ],
      "text/plain": [
       "\u001b[3m                                                 Train-Validation                                                  \u001b[0m\n",
       " ───────────────────────────────────────────────────────────────────────────────────────────────────────────────── \n",
       " \u001b[1m \u001b[0m\u001b[1m          \u001b[0m\u001b[1m \u001b[0m \u001b[1m \u001b[0m\u001b[1maccuracy_t…\u001b[0m\u001b[1m \u001b[0m \u001b[1m \u001b[0m\u001b[1maccuracy_…\u001b[0m\u001b[1m \u001b[0m \u001b[1m \u001b[0m\u001b[1mprecision_…\u001b[0m\u001b[1m \u001b[0m \u001b[1m \u001b[0m\u001b[1mprecision…\u001b[0m\u001b[1m \u001b[0m \u001b[1m \u001b[0m\u001b[1mrecall_tra…\u001b[0m\u001b[1m \u001b[0m \u001b[1m \u001b[0m\u001b[1mrecall_val\u001b[0m\u001b[1m \u001b[0m \u001b[1m \u001b[0m\u001b[1mf1_train\u001b[0m\u001b[1m \u001b[0m \u001b[1m \u001b[0m\u001b[1mf1_val\u001b[0m\u001b[1m \u001b[0m \n",
       " ───────────────────────────────────────────────────────────────────────────────────────────────────────────────── \n",
       "  Naive        0.6438        0.6250       0.5229        0.5272       0.6438        0.6250       0.5766     0.5572  \n",
       "  Bayes                                                                                                            \n",
       "  K-Nearest    0.7875        0.7250       0.7950        0.6883       0.7875        0.7250       0.7845     0.7024  \n",
       "  Neighbor                                                                                                         \n",
       "  SVM          0.7000        0.7000       0.5473        0.5425       0.7000        0.7000       0.6058     0.6037  \n",
       "  Logistic     0.9187        0.9000       0.8564        0.8379       0.9187        0.9000       0.8835     0.8670  \n",
       "  Regression                                                                                                       \n",
       "  Random       1.0000        0.9750       1.0000        0.9763       1.0000        0.9750       1.0000     0.9747  \n",
       "  Forest                                                                                                           \n",
       "  Decision     1.0000        0.9750       1.0000        0.9763       1.0000        0.9750       1.0000     0.9747  \n",
       "  Tree                                                                                                             \n",
       "  XGBoost      1.0000        0.9750       1.0000        0.9812       1.0000        0.9750       1.0000     0.9762  \n",
       "  Gradient     1.0000        0.9500       1.0000        0.9576       1.0000        0.9500       1.0000     0.9501  \n",
       "  Boosting                                                                                                         \n",
       " ───────────────────────────────────────────────────────────────────────────────────────────────────────────────── \n"
      ]
     },
     "metadata": {},
     "output_type": "display_data"
    }
   ],
   "source": [
    "clf = Classification(dataset=dataset)\n",
    "clf.compare_model(output=\"table\",train_val=True)"
   ]
  },
  {
   "cell_type": "markdown",
   "id": "ba932f01-9401-4a06-9b68-7b8e38801163",
   "metadata": {},
   "source": [
    "### using cross-validation"
   ]
  },
  {
   "cell_type": "code",
   "execution_count": 6,
   "id": "069ab528-1d59-4f8e-80fc-6a420dc02fc0",
   "metadata": {},
   "outputs": [
    {
     "data": {
      "application/vnd.jupyter.widget-view+json": {
       "model_id": "ad6ecafedcad4932a5184ecf2d55228f",
       "version_major": 2,
       "version_minor": 0
      },
      "text/plain": [
       "Output()"
      ]
     },
     "metadata": {},
     "output_type": "display_data"
    },
    {
     "data": {
      "text/html": [
       "<pre style=\"white-space:pre;overflow-x:auto;line-height:normal;font-family:Menlo,'DejaVu Sans Mono',consolas,'Courier New',monospace\"></pre>\n"
      ],
      "text/plain": []
     },
     "metadata": {},
     "output_type": "display_data"
    },
    {
     "data": {
      "text/html": [
       "<pre style=\"white-space:pre;overflow-x:auto;line-height:normal;font-family:Menlo,'DejaVu Sans Mono',consolas,'Courier New',monospace\">\n",
       "</pre>\n"
      ],
      "text/plain": [
       "\n"
      ]
     },
     "metadata": {},
     "output_type": "display_data"
    },
    {
     "data": {
      "text/html": [
       "<pre style=\"white-space:pre;overflow-x:auto;line-height:normal;font-family:Menlo,'DejaVu Sans Mono',consolas,'Courier New',monospace\"><span style=\"font-style: italic\">                             Cross-Validation (n_splits: 5)                             </span>\n",
       " ────────────────────────────────────────────────────────────────────────────────────── \n",
       " <span style=\"font-weight: bold\">                     </span> <span style=\"font-weight: bold\"> fit_time </span> <span style=\"font-weight: bold\"> score_time </span> <span style=\"font-weight: bold\"> accuracy </span> <span style=\"font-weight: bold\"> recall </span> <span style=\"font-weight: bold\"> precision </span> <span style=\"font-weight: bold\"> f1     </span> \n",
       " ────────────────────────────────────────────────────────────────────────────────────── \n",
       "  Naive Bayes           0.0018     0.0011       0.6312     0.6250   0.6250      0.6250  \n",
       "  K-Nearest Neighbor    0.0009     0.0043       0.6250     0.6125   0.6125      0.6125  \n",
       "  SVM                   0.0025     0.0011       0.6625     0.6687   0.6687      0.6687  \n",
       "  Logistic Regression   0.3201     0.0007       0.8938     0.9000   0.9000      0.9000  \n",
       "  Random Forest         0.1391     0.0056       0.9812     0.9875   0.9938      0.9938  \n",
       "  Decision Tree         0.0007     0.0008       0.9938     0.9938   0.9938      0.9938  \n",
       "  XGBoost               0.1109     0.0041       0.9812     0.9812   0.9812      0.9812  \n",
       "  Gradient Boosting     0.5740     0.0020       0.9875     0.9875   0.9875      0.9875  \n",
       " ────────────────────────────────────────────────────────────────────────────────────── \n",
       "</pre>\n"
      ],
      "text/plain": [
       "\u001b[3m                             Cross-Validation (n_splits: 5)                             \u001b[0m\n",
       " ────────────────────────────────────────────────────────────────────────────────────── \n",
       " \u001b[1m \u001b[0m\u001b[1m                   \u001b[0m\u001b[1m \u001b[0m \u001b[1m \u001b[0m\u001b[1mfit_time\u001b[0m\u001b[1m \u001b[0m \u001b[1m \u001b[0m\u001b[1mscore_time\u001b[0m\u001b[1m \u001b[0m \u001b[1m \u001b[0m\u001b[1maccuracy\u001b[0m\u001b[1m \u001b[0m \u001b[1m \u001b[0m\u001b[1mrecall\u001b[0m\u001b[1m \u001b[0m \u001b[1m \u001b[0m\u001b[1mprecision\u001b[0m\u001b[1m \u001b[0m \u001b[1m \u001b[0m\u001b[1mf1    \u001b[0m\u001b[1m \u001b[0m \n",
       " ────────────────────────────────────────────────────────────────────────────────────── \n",
       "  Naive Bayes           0.0018     0.0011       0.6312     0.6250   0.6250      0.6250  \n",
       "  K-Nearest Neighbor    0.0009     0.0043       0.6250     0.6125   0.6125      0.6125  \n",
       "  SVM                   0.0025     0.0011       0.6625     0.6687   0.6687      0.6687  \n",
       "  Logistic Regression   0.3201     0.0007       0.8938     0.9000   0.9000      0.9000  \n",
       "  Random Forest         0.1391     0.0056       0.9812     0.9875   0.9938      0.9938  \n",
       "  Decision Tree         0.0007     0.0008       0.9938     0.9938   0.9938      0.9938  \n",
       "  XGBoost               0.1109     0.0041       0.9812     0.9812   0.9812      0.9812  \n",
       "  Gradient Boosting     0.5740     0.0020       0.9875     0.9875   0.9875      0.9875  \n",
       " ────────────────────────────────────────────────────────────────────────────────────── \n"
      ]
     },
     "metadata": {},
     "output_type": "display_data"
    }
   ],
   "source": [
    "# using cross-validation\n",
    "clf.compare_model(output=\"table\",train_val=False)"
   ]
  },
  {
   "cell_type": "markdown",
   "id": "7f8e2386-9230-48d4-9553-436a3526505a",
   "metadata": {},
   "source": [
    "## Set Model"
   ]
  },
  {
   "cell_type": "code",
   "execution_count": 7,
   "id": "81f1ea4e-d482-4280-b4ae-6e79f4a5978e",
   "metadata": {},
   "outputs": [
    {
     "data": {
      "text/plain": [
       "('K-Nearest Neighbor', KNeighborsClassifier())"
      ]
     },
     "execution_count": 7,
     "metadata": {},
     "output_type": "execute_result"
    }
   ],
   "source": [
    "# Set Model\n",
    "clf.set_model(\"K-Nearest Neighbor\")\n",
    "clf.model"
   ]
  },
  {
   "cell_type": "code",
   "execution_count": 8,
   "id": "4d4136c5-7968-4809-9048-b33827f38feb",
   "metadata": {},
   "outputs": [],
   "source": [
    "# Mengambil data validation (test) dari object dataset\n",
    "X_train,X_test,y_train,y_test = dataset.get_x_y()\n",
    "\n",
    "pred = clf.predict(X_test)"
   ]
  },
  {
   "cell_type": "code",
   "execution_count": 9,
   "id": "8cabdb8b-6745-45d4-996b-a6dbc5dc74f8",
   "metadata": {},
   "outputs": [
    {
     "data": {
      "text/plain": [
       "{'accuracy': 0.725,\n",
       " 'precision': 0.6883333333333332,\n",
       " 'recall': 0.725,\n",
       " 'f1': 0.7023547505126452,\n",
       " 'classification_report': {'0': {'precision': 0.9,\n",
       "   'recall': 1.0,\n",
       "   'f1-score': 0.9473684210526315,\n",
       "   'support': 18.0},\n",
       "  '1': {'precision': 0.5,\n",
       "   'recall': 0.6,\n",
       "   'f1-score': 0.5454545454545454,\n",
       "   'support': 5.0},\n",
       "  '2': {'precision': 0.5,\n",
       "   'recall': 0.6666666666666666,\n",
       "   'f1-score': 0.5714285714285714,\n",
       "   'support': 3.0},\n",
       "  '3': {'precision': 0.0, 'recall': 0.0, 'f1-score': 0.0, 'support': 3.0},\n",
       "  '4': {'precision': 0.6666666666666666,\n",
       "   'recall': 0.5454545454545454,\n",
       "   'f1-score': 0.6,\n",
       "   'support': 11.0},\n",
       "  'accuracy': 0.725,\n",
       "  'macro avg': {'precision': 0.5133333333333333,\n",
       "   'recall': 0.5624242424242424,\n",
       "   'f1-score': 0.5328503075871496,\n",
       "   'support': 40.0},\n",
       "  'weighted avg': {'precision': 0.6883333333333332,\n",
       "   'recall': 0.725,\n",
       "   'f1-score': 0.7023547505126452,\n",
       "   'support': 40.0}}}"
      ]
     },
     "execution_count": 9,
     "metadata": {},
     "output_type": "execute_result"
    }
   ],
   "source": [
    "# Evaluasi\n",
    "clf.score_report(y_test,pred)"
   ]
  },
  {
   "cell_type": "markdown",
   "id": "f0c2da2e-1b37-486d-96b6-1f7dbf27ae72",
   "metadata": {},
   "source": [
    "## HyperParameter Tuning"
   ]
  },
  {
   "cell_type": "code",
   "execution_count": 10,
   "id": "d6896bc6-8d00-4d2f-a586-5745f4ec6ccd",
   "metadata": {},
   "outputs": [
    {
     "data": {
      "text/plain": [
       "{'algorithm': 'auto',\n",
       " 'leaf_size': 30,\n",
       " 'metric': 'minkowski',\n",
       " 'metric_params': None,\n",
       " 'n_jobs': None,\n",
       " 'n_neighbors': 5,\n",
       " 'p': 2,\n",
       " 'weights': 'uniform'}"
      ]
     },
     "execution_count": 10,
     "metadata": {},
     "output_type": "execute_result"
    }
   ],
   "source": [
    "# HyperParameter Tuning\n",
    "clf.set_model(\"K-Nearest Neighbor\")\n",
    "\n",
    "clf.model[1].get_params()"
   ]
  },
  {
   "cell_type": "code",
   "execution_count": 11,
   "id": "b209553c-762d-4c0e-a96c-fc6daac5cfbf",
   "metadata": {},
   "outputs": [
    {
     "data": {
      "text/plain": [
       "(0.63125, {'metric': 'minkowski', 'n_neighbors': 3})"
      ]
     },
     "execution_count": 11,
     "metadata": {},
     "output_type": "execute_result"
    }
   ],
   "source": [
    "params = {\"n_neighbors\":[2,3,4],\"metric\":[\"minkowski\",\"euclidean\"]}\n",
    "best_score,best_params = clf.find_best_params(params)\n",
    "clf.set_params(best_params)\n",
    "best_score,best_params"
   ]
  },
  {
   "cell_type": "code",
   "execution_count": 12,
   "id": "e938d0c9-f8d8-42eb-a898-8858ef96be79",
   "metadata": {},
   "outputs": [
    {
     "data": {
      "text/plain": [
       "{'accuracy': 0.775,\n",
       " 'precision': 0.7183531746031745,\n",
       " 'recall': 0.775,\n",
       " 'f1': 0.7403521478521479,\n",
       " 'classification_report': {'0': {'precision': 0.8571428571428571,\n",
       "   'recall': 1.0,\n",
       "   'f1-score': 0.9230769230769231,\n",
       "   'support': 18.0},\n",
       "  '1': {'precision': 0.5,\n",
       "   'recall': 0.6,\n",
       "   'f1-score': 0.5454545454545454,\n",
       "   'support': 5.0},\n",
       "  '2': {'precision': 0.75,\n",
       "   'recall': 1.0,\n",
       "   'f1-score': 0.8571428571428571,\n",
       "   'support': 3.0},\n",
       "  '3': {'precision': 0.0, 'recall': 0.0, 'f1-score': 0.0, 'support': 3.0},\n",
       "  '4': {'precision': 0.7777777777777778,\n",
       "   'recall': 0.6363636363636364,\n",
       "   'f1-score': 0.7,\n",
       "   'support': 11.0},\n",
       "  'accuracy': 0.775,\n",
       "  'macro avg': {'precision': 0.5769841269841269,\n",
       "   'recall': 0.6472727272727272,\n",
       "   'f1-score': 0.605134865134865,\n",
       "   'support': 40.0},\n",
       "  'weighted avg': {'precision': 0.7183531746031745,\n",
       "   'recall': 0.775,\n",
       "   'f1-score': 0.7403521478521479,\n",
       "   'support': 40.0}}}"
      ]
     },
     "execution_count": 12,
     "metadata": {},
     "output_type": "execute_result"
    }
   ],
   "source": [
    "pred = clf.predict(X_test)\n",
    "clf.score_report(y_test,pred)"
   ]
  },
  {
   "cell_type": "code",
   "execution_count": 13,
   "id": "2a1afaa9-83b6-42bb-a480-4206448ba18b",
   "metadata": {},
   "outputs": [
    {
     "data": {
      "application/vnd.jupyter.widget-view+json": {
       "model_id": "7c5724c88917413e95bfc40ebc449652",
       "version_major": 2,
       "version_minor": 0
      },
      "text/plain": [
       "Output()"
      ]
     },
     "metadata": {},
     "output_type": "display_data"
    },
    {
     "data": {
      "text/html": [
       "<pre style=\"white-space:pre;overflow-x:auto;line-height:normal;font-family:Menlo,'DejaVu Sans Mono',consolas,'Courier New',monospace\"></pre>\n"
      ],
      "text/plain": []
     },
     "metadata": {},
     "output_type": "display_data"
    },
    {
     "data": {
      "text/html": [
       "<pre style=\"white-space:pre;overflow-x:auto;line-height:normal;font-family:Menlo,'DejaVu Sans Mono',consolas,'Courier New',monospace\">\n",
       "</pre>\n"
      ],
      "text/plain": [
       "\n"
      ]
     },
     "metadata": {},
     "output_type": "display_data"
    },
    {
     "data": {
      "text/html": [
       "<pre style=\"white-space:pre;overflow-x:auto;line-height:normal;font-family:Menlo,'DejaVu Sans Mono',consolas,'Courier New',monospace\"><span style=\"font-style: italic\">                                                 Train-Validation                                                  </span>\n",
       " ───────────────────────────────────────────────────────────────────────────────────────────────────────────────── \n",
       " <span style=\"font-weight: bold\">            </span> <span style=\"font-weight: bold\"> accuracy_t… </span> <span style=\"font-weight: bold\"> accuracy_… </span> <span style=\"font-weight: bold\"> precision_… </span> <span style=\"font-weight: bold\"> precision… </span> <span style=\"font-weight: bold\"> recall_tra… </span> <span style=\"font-weight: bold\"> recall_val </span> <span style=\"font-weight: bold\"> f1_train </span> <span style=\"font-weight: bold\"> f1_val </span> \n",
       " ───────────────────────────────────────────────────────────────────────────────────────────────────────────────── \n",
       "  Naive        0.6438        0.6250       0.5229        0.5272       0.6438        0.6250       0.5766     0.5572  \n",
       "  Bayes                                                                                                            \n",
       "  <span style=\"color: #800080; text-decoration-color: #800080; font-weight: bold\">K-Nearest </span>   <span style=\"color: #800080; text-decoration-color: #800080; font-weight: bold\">0.8125     </span>   <span style=\"color: #800080; text-decoration-color: #800080; font-weight: bold\">0.7750    </span>   <span style=\"color: #800080; text-decoration-color: #800080; font-weight: bold\">0.8217     </span>   <span style=\"color: #800080; text-decoration-color: #800080; font-weight: bold\">0.7184    </span>   <span style=\"color: #800080; text-decoration-color: #800080; font-weight: bold\">0.8125     </span>   <span style=\"color: #800080; text-decoration-color: #800080; font-weight: bold\">0.7750    </span>   <span style=\"color: #800080; text-decoration-color: #800080; font-weight: bold\">0.8021  </span>   <span style=\"color: #800080; text-decoration-color: #800080; font-weight: bold\">0.7404</span>  \n",
       "  <span style=\"color: #800080; text-decoration-color: #800080; font-weight: bold\">Neighbor  </span>                                                                                                       \n",
       "  SVM          0.7000        0.7000       0.5473        0.5425       0.7000        0.7000       0.6058     0.6037  \n",
       "  Logistic     0.9187        0.9000       0.8564        0.8379       0.9187        0.9000       0.8835     0.8670  \n",
       "  Regression                                                                                                       \n",
       "  Random       1.0000        0.9750       1.0000        0.9763       1.0000        0.9750       1.0000     0.9747  \n",
       "  Forest                                                                                                           \n",
       "  Decision     1.0000        0.9750       1.0000        0.9763       1.0000        0.9750       1.0000     0.9747  \n",
       "  Tree                                                                                                             \n",
       "  XGBoost      1.0000        0.9750       1.0000        0.9812       1.0000        0.9750       1.0000     0.9762  \n",
       "  Gradient     1.0000        0.9500       1.0000        0.9576       1.0000        0.9500       1.0000     0.9501  \n",
       "  Boosting                                                                                                         \n",
       " ───────────────────────────────────────────────────────────────────────────────────────────────────────────────── \n",
       "</pre>\n"
      ],
      "text/plain": [
       "\u001b[3m                                                 Train-Validation                                                  \u001b[0m\n",
       " ───────────────────────────────────────────────────────────────────────────────────────────────────────────────── \n",
       " \u001b[1m \u001b[0m\u001b[1m          \u001b[0m\u001b[1m \u001b[0m \u001b[1m \u001b[0m\u001b[1maccuracy_t…\u001b[0m\u001b[1m \u001b[0m \u001b[1m \u001b[0m\u001b[1maccuracy_…\u001b[0m\u001b[1m \u001b[0m \u001b[1m \u001b[0m\u001b[1mprecision_…\u001b[0m\u001b[1m \u001b[0m \u001b[1m \u001b[0m\u001b[1mprecision…\u001b[0m\u001b[1m \u001b[0m \u001b[1m \u001b[0m\u001b[1mrecall_tra…\u001b[0m\u001b[1m \u001b[0m \u001b[1m \u001b[0m\u001b[1mrecall_val\u001b[0m\u001b[1m \u001b[0m \u001b[1m \u001b[0m\u001b[1mf1_train\u001b[0m\u001b[1m \u001b[0m \u001b[1m \u001b[0m\u001b[1mf1_val\u001b[0m\u001b[1m \u001b[0m \n",
       " ───────────────────────────────────────────────────────────────────────────────────────────────────────────────── \n",
       "  Naive        0.6438        0.6250       0.5229        0.5272       0.6438        0.6250       0.5766     0.5572  \n",
       "  Bayes                                                                                                            \n",
       "  \u001b[1;35mK-Nearest \u001b[0m   \u001b[1;35m0.8125     \u001b[0m   \u001b[1;35m0.7750    \u001b[0m   \u001b[1;35m0.8217     \u001b[0m   \u001b[1;35m0.7184    \u001b[0m   \u001b[1;35m0.8125     \u001b[0m   \u001b[1;35m0.7750    \u001b[0m   \u001b[1;35m0.8021  \u001b[0m   \u001b[1;35m0.7404\u001b[0m  \n",
       "  \u001b[1;35mNeighbor  \u001b[0m                                                                                                       \n",
       "  SVM          0.7000        0.7000       0.5473        0.5425       0.7000        0.7000       0.6058     0.6037  \n",
       "  Logistic     0.9187        0.9000       0.8564        0.8379       0.9187        0.9000       0.8835     0.8670  \n",
       "  Regression                                                                                                       \n",
       "  Random       1.0000        0.9750       1.0000        0.9763       1.0000        0.9750       1.0000     0.9747  \n",
       "  Forest                                                                                                           \n",
       "  Decision     1.0000        0.9750       1.0000        0.9763       1.0000        0.9750       1.0000     0.9747  \n",
       "  Tree                                                                                                             \n",
       "  XGBoost      1.0000        0.9750       1.0000        0.9812       1.0000        0.9750       1.0000     0.9762  \n",
       "  Gradient     1.0000        0.9500       1.0000        0.9576       1.0000        0.9500       1.0000     0.9501  \n",
       "  Boosting                                                                                                         \n",
       " ───────────────────────────────────────────────────────────────────────────────────────────────────────────────── \n"
      ]
     },
     "metadata": {},
     "output_type": "display_data"
    }
   ],
   "source": [
    "clf.compare_model(output=\"table\")"
   ]
  }
 ],
 "metadata": {
  "kernelspec": {
   "display_name": "Python 3 (ipykernel)",
   "language": "python",
   "name": "python3"
  },
  "language_info": {
   "codemirror_mode": {
    "name": "ipython",
    "version": 3
   },
   "file_extension": ".py",
   "mimetype": "text/x-python",
   "name": "python",
   "nbconvert_exporter": "python",
   "pygments_lexer": "ipython3",
   "version": "3.12.2"
  }
 },
 "nbformat": 4,
 "nbformat_minor": 5
}
