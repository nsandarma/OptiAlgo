{
 "cells": [
  {
   "cell_type": "code",
   "execution_count": 1,
   "metadata": {},
   "outputs": [],
   "source": [
    "import pandas as pd\n",
    "from optialgo import TextDataset,Classification,text_clean,text_manipulation,find_duplicates"
   ]
  },
  {
   "cell_type": "code",
   "execution_count": 2,
   "metadata": {},
   "outputs": [
    {
     "data": {
      "text/html": [
       "<div>\n",
       "<style scoped>\n",
       "    .dataframe tbody tr th:only-of-type {\n",
       "        vertical-align: middle;\n",
       "    }\n",
       "\n",
       "    .dataframe tbody tr th {\n",
       "        vertical-align: top;\n",
       "    }\n",
       "\n",
       "    .dataframe thead th {\n",
       "        text-align: right;\n",
       "    }\n",
       "</style>\n",
       "<table border=\"1\" class=\"dataframe\">\n",
       "  <thead>\n",
       "    <tr style=\"text-align: right;\">\n",
       "      <th></th>\n",
       "      <th>review</th>\n",
       "      <th>sentiment</th>\n",
       "    </tr>\n",
       "  </thead>\n",
       "  <tbody>\n",
       "    <tr>\n",
       "      <th>18658</th>\n",
       "      <td>I always thought my father had a second life a...</td>\n",
       "      <td>positive</td>\n",
       "    </tr>\n",
       "    <tr>\n",
       "      <th>39486</th>\n",
       "      <td>What more can I say? The acting was, almost wi...</td>\n",
       "      <td>negative</td>\n",
       "    </tr>\n",
       "    <tr>\n",
       "      <th>39337</th>\n",
       "      <td>If this film was a comedy, I would have given ...</td>\n",
       "      <td>negative</td>\n",
       "    </tr>\n",
       "    <tr>\n",
       "      <th>38640</th>\n",
       "      <td>if u haven't seen Vijay in \"Ghillli\", \"Gilly\" ...</td>\n",
       "      <td>positive</td>\n",
       "    </tr>\n",
       "    <tr>\n",
       "      <th>44670</th>\n",
       "      <td>This movie should have ended as soon as the jo...</td>\n",
       "      <td>negative</td>\n",
       "    </tr>\n",
       "    <tr>\n",
       "      <th>...</th>\n",
       "      <td>...</td>\n",
       "      <td>...</td>\n",
       "    </tr>\n",
       "    <tr>\n",
       "      <th>49</th>\n",
       "      <td>Average (and surprisingly tame) Fulci giallo w...</td>\n",
       "      <td>negative</td>\n",
       "    </tr>\n",
       "    <tr>\n",
       "      <th>42185</th>\n",
       "      <td>...not to waste your time watching this vanity...</td>\n",
       "      <td>negative</td>\n",
       "    </tr>\n",
       "    <tr>\n",
       "      <th>49485</th>\n",
       "      <td>Notable because of it's notorious explicit sce...</td>\n",
       "      <td>positive</td>\n",
       "    </tr>\n",
       "    <tr>\n",
       "      <th>22631</th>\n",
       "      <td>There's a major difference between releasing a...</td>\n",
       "      <td>negative</td>\n",
       "    </tr>\n",
       "    <tr>\n",
       "      <th>18710</th>\n",
       "      <td>This crap is like watching paint dry. I'm so d...</td>\n",
       "      <td>negative</td>\n",
       "    </tr>\n",
       "  </tbody>\n",
       "</table>\n",
       "<p>2000 rows × 2 columns</p>\n",
       "</div>"
      ],
      "text/plain": [
       "                                                  review sentiment\n",
       "18658  I always thought my father had a second life a...  positive\n",
       "39486  What more can I say? The acting was, almost wi...  negative\n",
       "39337  If this film was a comedy, I would have given ...  negative\n",
       "38640  if u haven't seen Vijay in \"Ghillli\", \"Gilly\" ...  positive\n",
       "44670  This movie should have ended as soon as the jo...  negative\n",
       "...                                                  ...       ...\n",
       "49     Average (and surprisingly tame) Fulci giallo w...  negative\n",
       "42185  ...not to waste your time watching this vanity...  negative\n",
       "49485  Notable because of it's notorious explicit sce...  positive\n",
       "22631  There's a major difference between releasing a...  negative\n",
       "18710  This crap is like watching paint dry. I'm so d...  negative\n",
       "\n",
       "[2000 rows x 2 columns]"
      ]
     },
     "execution_count": 2,
     "metadata": {},
     "output_type": "execute_result"
    }
   ],
   "source": [
    "df = pd.read_csv(\"../dataset_ex/IMDB Dataset.csv\").sample(2000) # The module has not been optimized for data more than 5000\n",
    "df"
   ]
  },
  {
   "cell_type": "markdown",
   "metadata": {},
   "source": [
    "# Text Preprocessing"
   ]
  },
  {
   "cell_type": "code",
   "execution_count": 3,
   "metadata": {},
   "outputs": [
    {
     "name": "stderr",
     "output_type": "stream",
     "text": [
      "Case Folding: 100%|██████████| 2000/2000 [00:00<00:00, 298995.15it/s]\n",
      "Removing Emoji: 100%|██████████| 2000/2000 [00:00<00:00, 9638.41it/s]\n",
      "Removing URLs: 100%|██████████| 2000/2000 [00:00<00:00, 51944.74it/s]\n",
      "Removing Punctuation: 100%|██████████| 2000/2000 [00:00<00:00, 26479.02it/s]\n",
      "Removing Digits: 100%|██████████| 2000/2000 [00:00<00:00, 31708.61it/s]\n",
      "Removing Non-Latin Characters: 100%|██████████| 2000/2000 [00:00<00:00, 37934.33it/s]\n",
      "Tokenizing: 100%|██████████| 2000/2000 [00:02<00:00, 866.09it/s]\n",
      "Stopwords: 100%|██████████| 2000/2000 [00:00<00:00, 22763.52it/s]\n",
      "Stemming English: 100%|██████████| 2000/2000 [00:00<00:00, 2269.03it/s]\n"
     ]
    },
    {
     "data": {
      "text/html": [
       "<div>\n",
       "<style scoped>\n",
       "    .dataframe tbody tr th:only-of-type {\n",
       "        vertical-align: middle;\n",
       "    }\n",
       "\n",
       "    .dataframe tbody tr th {\n",
       "        vertical-align: top;\n",
       "    }\n",
       "\n",
       "    .dataframe thead th {\n",
       "        text-align: right;\n",
       "    }\n",
       "</style>\n",
       "<table border=\"1\" class=\"dataframe\">\n",
       "  <thead>\n",
       "    <tr style=\"text-align: right;\">\n",
       "      <th></th>\n",
       "      <th>review</th>\n",
       "      <th>sentiment</th>\n",
       "      <th>review_clean</th>\n",
       "      <th>review_final</th>\n",
       "    </tr>\n",
       "  </thead>\n",
       "  <tbody>\n",
       "    <tr>\n",
       "      <th>18658</th>\n",
       "      <td>I always thought my father had a second life a...</td>\n",
       "      <td>positive</td>\n",
       "      <td>(i, always, thought, my, father, had, a, secon...</td>\n",
       "      <td>alway thought father second life eagerli await...</td>\n",
       "    </tr>\n",
       "    <tr>\n",
       "      <th>39486</th>\n",
       "      <td>What more can I say? The acting was, almost wi...</td>\n",
       "      <td>negative</td>\n",
       "      <td>(what, more, can, i, say, the, acting, was, al...</td>\n",
       "      <td>say act almost without except amateurish direc...</td>\n",
       "    </tr>\n",
       "    <tr>\n",
       "      <th>39337</th>\n",
       "      <td>If this film was a comedy, I would have given ...</td>\n",
       "      <td>negative</td>\n",
       "      <td>(if, this, film, was, a, comedy, i, would, hav...</td>\n",
       "      <td>film comedi would given oh begin put way seen ...</td>\n",
       "    </tr>\n",
       "    <tr>\n",
       "      <th>38640</th>\n",
       "      <td>if u haven't seen Vijay in \"Ghillli\", \"Gilly\" ...</td>\n",
       "      <td>positive</td>\n",
       "      <td>(if, u, haven, t, seen, vijay, in, ghillli, gi...</td>\n",
       "      <td>u seen vijay ghillli gilli ghilli go watch wow...</td>\n",
       "    </tr>\n",
       "    <tr>\n",
       "      <th>44670</th>\n",
       "      <td>This movie should have ended as soon as the jo...</td>\n",
       "      <td>negative</td>\n",
       "      <td>(this, movie, should, have, ended, as, soon, a...</td>\n",
       "      <td>movi end soon joke bebe kid told open like rob...</td>\n",
       "    </tr>\n",
       "    <tr>\n",
       "      <th>...</th>\n",
       "      <td>...</td>\n",
       "      <td>...</td>\n",
       "      <td>...</td>\n",
       "      <td>...</td>\n",
       "    </tr>\n",
       "    <tr>\n",
       "      <th>49</th>\n",
       "      <td>Average (and surprisingly tame) Fulci giallo w...</td>\n",
       "      <td>negative</td>\n",
       "      <td>(average, and, surprisingly, tame, fulci, gial...</td>\n",
       "      <td>averag surprisingli tame fulci giallo mean sti...</td>\n",
       "    </tr>\n",
       "    <tr>\n",
       "      <th>42185</th>\n",
       "      <td>...not to waste your time watching this vanity...</td>\n",
       "      <td>negative</td>\n",
       "      <td>(not, to, waste, your, time, watching, this, v...</td>\n",
       "      <td>wast time watch vaniti project comment delet t...</td>\n",
       "    </tr>\n",
       "    <tr>\n",
       "      <th>49485</th>\n",
       "      <td>Notable because of it's notorious explicit sce...</td>\n",
       "      <td>positive</td>\n",
       "      <td>(notable, because, of, it, s, notorious, expli...</td>\n",
       "      <td>notabl notori explicit scene gorgeou maruschka...</td>\n",
       "    </tr>\n",
       "    <tr>\n",
       "      <th>22631</th>\n",
       "      <td>There's a major difference between releasing a...</td>\n",
       "      <td>negative</td>\n",
       "      <td>(there, s, a, major, difference, between, rele...</td>\n",
       "      <td>major differ releas origin intens edg seat sca...</td>\n",
       "    </tr>\n",
       "    <tr>\n",
       "      <th>18710</th>\n",
       "      <td>This crap is like watching paint dry. I'm so d...</td>\n",
       "      <td>negative</td>\n",
       "      <td>(this, crap, is, like, watching, paint, dry, i...</td>\n",
       "      <td>crap like watch paint dri disappoint eager see...</td>\n",
       "    </tr>\n",
       "  </tbody>\n",
       "</table>\n",
       "<p>2000 rows × 4 columns</p>\n",
       "</div>"
      ],
      "text/plain": [
       "                                                  review sentiment  \\\n",
       "18658  I always thought my father had a second life a...  positive   \n",
       "39486  What more can I say? The acting was, almost wi...  negative   \n",
       "39337  If this film was a comedy, I would have given ...  negative   \n",
       "38640  if u haven't seen Vijay in \"Ghillli\", \"Gilly\" ...  positive   \n",
       "44670  This movie should have ended as soon as the jo...  negative   \n",
       "...                                                  ...       ...   \n",
       "49     Average (and surprisingly tame) Fulci giallo w...  negative   \n",
       "42185  ...not to waste your time watching this vanity...  negative   \n",
       "49485  Notable because of it's notorious explicit sce...  positive   \n",
       "22631  There's a major difference between releasing a...  negative   \n",
       "18710  This crap is like watching paint dry. I'm so d...  negative   \n",
       "\n",
       "                                            review_clean  \\\n",
       "18658  (i, always, thought, my, father, had, a, secon...   \n",
       "39486  (what, more, can, i, say, the, acting, was, al...   \n",
       "39337  (if, this, film, was, a, comedy, i, would, hav...   \n",
       "38640  (if, u, haven, t, seen, vijay, in, ghillli, gi...   \n",
       "44670  (this, movie, should, have, ended, as, soon, a...   \n",
       "...                                                  ...   \n",
       "49     (average, and, surprisingly, tame, fulci, gial...   \n",
       "42185  (not, to, waste, your, time, watching, this, v...   \n",
       "49485  (notable, because, of, it, s, notorious, expli...   \n",
       "22631  (there, s, a, major, difference, between, rele...   \n",
       "18710  (this, crap, is, like, watching, paint, dry, i...   \n",
       "\n",
       "                                            review_final  \n",
       "18658  alway thought father second life eagerli await...  \n",
       "39486  say act almost without except amateurish direc...  \n",
       "39337  film comedi would given oh begin put way seen ...  \n",
       "38640  u seen vijay ghillli gilli ghilli go watch wow...  \n",
       "44670  movi end soon joke bebe kid told open like rob...  \n",
       "...                                                  ...  \n",
       "49     averag surprisingli tame fulci giallo mean sti...  \n",
       "42185  wast time watch vaniti project comment delet t...  \n",
       "49485  notabl notori explicit scene gorgeou maruschka...  \n",
       "22631  major differ releas origin intens edg seat sca...  \n",
       "18710  crap like watch paint dri disappoint eager see...  \n",
       "\n",
       "[2000 rows x 4 columns]"
      ]
     },
     "execution_count": 3,
     "metadata": {},
     "output_type": "execute_result"
    }
   ],
   "source": [
    "texts = df['review'].tolist()\n",
    "texts_clean = text_clean(data=texts,return_token=True,return_dataframe=False,verbose=True,duplicates=False)\n",
    "texts_manipulate = text_manipulation(tokens=texts_clean,lang=\"english\",stem=True,return_token=False,return_dataframe=False,verbose=True,stopwords=True)\n",
    "df['review_clean'] =  texts_clean\n",
    "df['review_final'] = texts_manipulate\n",
    "df"
   ]
  },
  {
   "cell_type": "code",
   "execution_count": 4,
   "metadata": {},
   "outputs": [
    {
     "data": {
      "text/plain": [
       "<optialgo.textDataset.TextDataset at 0x74ce0a3c71c0>"
      ]
     },
     "execution_count": 4,
     "metadata": {},
     "output_type": "execute_result"
    }
   ],
   "source": [
    "dataset = TextDataset(df,test_size=0.2)\n",
    "feature = \"review_final\"\n",
    "target = \"sentiment\"\n",
    "dataset.fit(feature=feature,target=target,t=\"classification\",vectorizer=\"tfidf\")\n",
    "dataset"
   ]
  },
  {
   "cell_type": "code",
   "execution_count": 5,
   "metadata": {},
   "outputs": [
    {
     "data": {
      "application/vnd.jupyter.widget-view+json": {
       "model_id": "901a1887e4994cdcabffbf93e174b090",
       "version_major": 2,
       "version_minor": 0
      },
      "text/plain": [
       "Output()"
      ]
     },
     "metadata": {},
     "output_type": "display_data"
    }
   ],
   "source": [
    "clf = Classification(dataset=dataset)\n",
    "clf.compare_model(output='table',verbose=True)"
   ]
  },
  {
   "cell_type": "code",
   "execution_count": null,
   "metadata": {},
   "outputs": [],
   "source": []
  }
 ],
 "metadata": {
  "kernelspec": {
   "display_name": "env",
   "language": "python",
   "name": "python3"
  },
  "language_info": {
   "codemirror_mode": {
    "name": "ipython",
    "version": 3
   },
   "file_extension": ".py",
   "mimetype": "text/x-python",
   "name": "python",
   "nbconvert_exporter": "python",
   "pygments_lexer": "ipython3",
   "version": "3.10.12"
  }
 },
 "nbformat": 4,
 "nbformat_minor": 2
}
